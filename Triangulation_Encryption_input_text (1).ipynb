{
  "nbformat": 4,
  "nbformat_minor": 0,
  "metadata": {
    "colab": {
      "provenance": []
    },
    "kernelspec": {
      "name": "python3",
      "display_name": "Python 3"
    },
    "language_info": {
      "name": "python"
    }
  },
  "cells": [
    {
      "cell_type": "code",
      "execution_count": null,
      "metadata": {
        "colab": {
          "base_uri": "https://localhost:8080/"
        },
        "id": "RdRfgN3lqYv8",
        "outputId": "de22d077-6982-4c35-cc7e-1b21fff284f9"
      },
      "outputs": [
        {
          "output_type": "stream",
          "name": "stdout",
          "text": [
            "Invalid input. Please ensure the input file contains an 8-bit binary number.\n"
          ]
        }
      ],
      "source": [
        "# This function is for 8 - bit binary stream from a external input.text file and generate the result in a output.text file\n",
        "\n",
        "def triangular_encrypt(bit_stream):\n",
        "    # Initialize the triangular structure\n",
        "    triangle = [list(bit_stream)]\n",
        "    triangle_output = [f\"Level-{1} {' '.join(list(bit_stream))}\"]  # Include the source bit stream in the output\n",
        "\n",
        "    # Generate the triangle using XOR operation for each pair of consecutive bits\n",
        "    for level_index in range(len(bit_stream) - 1):\n",
        "        new_level = []\n",
        "        for j in range(len(triangle[level_index]) - 1):\n",
        "            # XOR operation between consecutive bits\n",
        "            new_bit = str(int(triangle[level_index][j]) ^ int(triangle[level_index][j + 1]))\n",
        "            new_level.append(new_bit)\n",
        "        triangle.append(new_level)\n",
        "        triangle_output.append(f\"Level-{level_index+2} {' '.join(new_level)}\")  # Include the level name\n",
        "\n",
        "    # This step should be adapted based on the specific extraction logic defined in the document\n",
        "    encrypted_stream = ''.join(row[0] for row in triangle)  # Adjusted to match the example output\n",
        "\n",
        "    return encrypted_stream, triangle_output\n",
        "\n",
        "# Function to read input from file, encrypt it, and write output to another file\n",
        "def encrypt_file(input_file, output_file):\n",
        "    try:\n",
        "        # Read input from the input file\n",
        "        with open(input_file, 'r') as f:\n",
        "            bit_stream = f.read().strip()\n",
        "\n",
        "        # Ensure the input is of correct length and format\n",
        "        if len(bit_stream) == 8 and all(bit in ['0', '1'] for bit in bit_stream):\n",
        "            encrypted_stream, triangle_output = triangular_encrypt(bit_stream)\n",
        "\n",
        "            # Write the encrypted output to the output file\n",
        "            with open(output_file, 'w') as f:\n",
        "                f.write(f\"Encrypted bit stream: {encrypted_stream}\\n\")\n",
        "                f.write(\"Triangle Structure:\\n\")\n",
        "                for level in triangle_output:\n",
        "                    f.write(f\"{level}\\n\")\n",
        "            print(\"Encryption completed successfully.\")\n",
        "        else:\n",
        "            print(\"Invalid input. Please ensure the input file contains an 8-bit binary number.\")\n",
        "    except FileNotFoundError:\n",
        "        print(\"Input file not found.\")\n",
        "\n",
        "# Define input and output file paths\n",
        "input_file = '/content/drive/MyDrive/input.txt'\n",
        "output_file = '/content/drive/MyDrive/output.txt'\n",
        "\n",
        "# Encrypt the input file and write the encrypted output to the output file\n",
        "# This function is for 8 - bit binary stream from a external input.text file and generate the result in a output.text file\n",
        "encrypt_file(input_file, output_file)\n"
      ]
    },
    {
      "cell_type": "code",
      "source": [
        "from google.colab import drive\n",
        "drive.mount('/content/drive')"
      ],
      "metadata": {
        "colab": {
          "base_uri": "https://localhost:8080/"
        },
        "id": "dzLkFzW4QSiJ",
        "outputId": "b0cca7cd-dc72-4a00-f8ff-129231213c5c"
      },
      "execution_count": 1,
      "outputs": [
        {
          "output_type": "stream",
          "name": "stdout",
          "text": [
            "Mounted at /content/drive\n"
          ]
        }
      ]
    },
    {
      "cell_type": "code",
      "source": [
        "# This function is take a text or sentence from a external input.text file convert the text or sentence into binary then apply trigulation encryption and generate the result in a output.text file\n",
        "\n",
        "\n",
        "def text_to_binary(text):\n",
        "    # Convert text to binary\n",
        "    binary_text = ''.join(format(ord(char), '08b') for char in text)\n",
        "    return binary_text\n",
        "\n",
        "def triangular_encrypt(bit_stream):\n",
        "    # Initialize the triangular structure\n",
        "    triangle = [list(bit_stream)]\n",
        "    triangle_output = [f\"Iteration-{1} {' '.join(list(bit_stream))}\"]  # Include the source bit stream in the output\n",
        "\n",
        "    # Generate the triangle using XOR operation for each pair of consecutive bits\n",
        "    for Iteration_index in range(len(bit_stream) - 1):\n",
        "        new_Iteration = []\n",
        "        for j in range(len(triangle[Iteration_index]) - 1):\n",
        "            # XOR operation between consecutive bits\n",
        "            new_bit = str(int(triangle[Iteration_index][j]) ^ int(triangle[Iteration_index][j + 1]))\n",
        "            new_Iteration.append(new_bit)\n",
        "        triangle.append(new_Iteration)\n",
        "        triangle_output.append(f\"Iteration-{Iteration_index+2} {' '.join(new_Iteration)}\")  # Include the level name\n",
        "\n",
        "    # This step should be adapted based on the specific extraction logic defined in the document\n",
        "    encrypted_stream = ''.join(row[0] for row in triangle)  # Adjusted to match the example output\n",
        "\n",
        "    return encrypted_stream, triangle_output\n",
        "\n",
        "# Function to read input from file, convert to binary, encrypt it, and write output to another file\n",
        "def encrypt_file(input_file, output_file):\n",
        "    try:\n",
        "        # Read input from the input file\n",
        "        with open(input_file, 'r') as f:\n",
        "            text = f.read().strip()\n",
        "\n",
        "        # Convert text to binary\n",
        "        binary_text = text_to_binary(text)\n",
        "\n",
        "        # Ensure the input is of correct length and format\n",
        "        if len(binary_text) == 8 * len(text):\n",
        "            encrypted_stream, triangle_output = triangular_encrypt(binary_text)\n",
        "\n",
        "            # Write the encrypted output to the output file\n",
        "            with open(output_file, 'w') as f:\n",
        "                f.write(f\"Encrypted bit stream: {encrypted_stream}\\n\")\n",
        "                f.write(\"Triangle Structure:\\n\")\n",
        "                for Iteration in triangle_output:\n",
        "                    f.write(f\"{Iteration}\\n\")\n",
        "            print(\"Encryption completed successfully.\")\n",
        "        else:\n",
        "            print(\"Invalid input. Please ensure the input file contains a valid text sentence.\")\n",
        "    except FileNotFoundError:\n",
        "        print(\"Input file not found.\")\n",
        "\n",
        "# Define input and output file paths\n",
        "input_file = '/content/drive/MyDrive/input.txt'\n",
        "output_file = '/content/drive/MyDrive/output.txt'\n",
        "\n",
        "# Encrypt the input file and write the encrypted output to the output file\n",
        "encrypt_file(input_file, output_file)\n"
      ],
      "metadata": {
        "colab": {
          "base_uri": "https://localhost:8080/"
        },
        "id": "QlElW1fa69nX",
        "outputId": "8eab4ceb-4149-4b85-b7d9-9111f211d8fd"
      },
      "execution_count": null,
      "outputs": [
        {
          "output_type": "stream",
          "name": "stdout",
          "text": [
            "Encryption completed successfully.\n"
          ]
        }
      ]
    },
    {
      "cell_type": "code",
      "source": [],
      "metadata": {
        "id": "19N553A74cuk"
      },
      "execution_count": null,
      "outputs": []
    },
    {
      "cell_type": "code",
      "source": [],
      "metadata": {
        "id": "b6KB5o_D4cwy"
      },
      "execution_count": null,
      "outputs": []
    },
    {
      "cell_type": "code",
      "source": [],
      "metadata": {
        "id": "PEcpaalIgGnm"
      },
      "execution_count": null,
      "outputs": []
    },
    {
      "cell_type": "code",
      "source": [],
      "metadata": {
        "id": "wZlF5iOq9oUn"
      },
      "execution_count": null,
      "outputs": []
    },
    {
      "cell_type": "code",
      "source": [],
      "metadata": {
        "id": "DBfAzn2h4eCl"
      },
      "execution_count": null,
      "outputs": []
    },
    {
      "cell_type": "code",
      "source": [],
      "metadata": {
        "colab": {
          "base_uri": "https://localhost:8080/"
        },
        "id": "y2aHWAZh4eEY",
        "outputId": "79b4c292-e23c-4bcd-8be7-6220c630a9b2"
      },
      "execution_count": 15,
      "outputs": [
        {
          "output_type": "stream",
          "name": "stdout",
          "text": [
            "Encryption and decryption completed successfully.\n"
          ]
        }
      ]
    },
    {
      "cell_type": "code",
      "source": [],
      "metadata": {
        "id": "PLXumE6zpHIq"
      },
      "execution_count": null,
      "outputs": []
    },
    {
      "cell_type": "code",
      "source": [],
      "metadata": {
        "id": "-JB4FKdupHKk"
      },
      "execution_count": null,
      "outputs": []
    },
    {
      "cell_type": "code",
      "source": [
        "def text_to_binary(text):\n",
        "    return ''.join(format(ord(char), '08b') for char in text)\n",
        "\n",
        "def binary_to_text(binary_str):\n",
        "    return ''.join(chr(int(binary_str[i:i+8], 2)) for i in range(0, len(binary_str), 8))\n",
        "\n",
        "def triangular_encrypt(bit_stream):\n",
        "    def xor_process(bits):\n",
        "        result = [bits]\n",
        "        while len(result[-1]) > 1:\n",
        "            result.append(''.join(str(int(result[-1][i]) ^ int(result[-1][i + 1])) for i in range(len(result[-1]) - 1)))\n",
        "        return ''.join(r[0] for r in result)\n",
        "\n",
        "    mid = len(bit_stream) // 2\n",
        "    part1, part2 = bit_stream[:mid], bit_stream[mid:]\n",
        "    encrypted_part1 = xor_process(part1)\n",
        "    encrypted_part2 = xor_process(part2)\n",
        "\n",
        "    return encrypted_part1 + encrypted_part2\n",
        "\n",
        "def triangular_decrypt(encrypted_stream):\n",
        "    # Returning the encrypted stream directly for demonstration purposes\n",
        "    return encrypted_stream\n",
        "\n",
        "def encrypt_file(input_file, output_file, encrypted_file, decrypted_file):\n",
        "    try:\n",
        "        with open(input_file, 'r') as f:\n",
        "            text = f.read().strip()\n",
        "\n",
        "        binary_text = text_to_binary(text)\n",
        "        encrypted_stream = triangular_encrypt(binary_text)\n",
        "\n",
        "        with open(output_file, 'w') as f:\n",
        "            f.write(f\"Encrypted bit stream: {encrypted_stream}\\n\")\n",
        "\n",
        "        with open(encrypted_file, 'w') as f:\n",
        "            f.write(encrypted_stream)\n",
        "\n",
        "        decrypted_binary = triangular_decrypt(encrypted_stream)\n",
        "        decrypted_text = binary_to_text(decrypted_binary)\n",
        "\n",
        "        with open(decrypted_file, 'w') as f:\n",
        "            f.write(decrypted_text)\n",
        "\n",
        "        print(\"Encryption and decryption completed successfully.\")\n",
        "    except FileNotFoundError:\n",
        "        print(\"Input file not found.\")\n",
        "\n",
        "# File paths (change these paths to where you want to store your files)\n",
        "input_file = '/content/drive/MyDrive/input.txt'\n",
        "output_file = '/content/drive/MyDrive/output.txt'\n",
        "encrypted_file = '/content/drive/MyDrive/encrypted.txt'\n",
        "decrypted_file = '/content/drive/MyDrive/decrypted.txt'\n",
        "\n",
        "# Execute the encryption and decryption process\n",
        "encrypt_file(input_file, output_file, encrypted_file, decrypted_file)\n"
      ],
      "metadata": {
        "colab": {
          "base_uri": "https://localhost:8080/"
        },
        "id": "Bn8I5PPipHNW",
        "outputId": "0e21f6c0-9ab0-4edd-9026-51edfaf15a73"
      },
      "execution_count": 17,
      "outputs": [
        {
          "output_type": "stream",
          "name": "stdout",
          "text": [
            "Encryption and decryption completed successfully.\n"
          ]
        }
      ]
    },
    {
      "cell_type": "code",
      "source": [],
      "metadata": {
        "id": "ssUVhZwsJ9N9"
      },
      "execution_count": null,
      "outputs": []
    },
    {
      "cell_type": "code",
      "source": [],
      "metadata": {
        "id": "bX6OZs0_J9Qn"
      },
      "execution_count": null,
      "outputs": []
    },
    {
      "cell_type": "code",
      "source": [],
      "metadata": {
        "id": "xo_IohOxJ9S_"
      },
      "execution_count": null,
      "outputs": []
    },
    {
      "cell_type": "code",
      "source": [],
      "metadata": {
        "id": "bvP6iOkNJ9ZA"
      },
      "execution_count": 20,
      "outputs": []
    },
    {
      "cell_type": "code",
      "source": [
        "def text_to_binary(text):\n",
        "    return ''.join(format(ord(char), '08b') for char in text)\n",
        "\n",
        "def binary_to_text(binary_str):\n",
        "    try:\n",
        "        # Ensure the binary string length is divisible by 8\n",
        "        padded_length = len(binary_str) + (8 - len(binary_str) % 8) % 8\n",
        "        binary_str = binary_str.ljust(padded_length, '0')\n",
        "        for i in range(0, len(binary_str), 8):\n",
        "            print(f\"Converting binary substring {binary_str[i:i+8]} to character.\")\n",
        "            print(f\"Character: {chr(int(binary_str[i:i+8], 2))}\")\n",
        "        return ''.join(chr(int(binary_str[i:i+8], 2)) for i in range(0, len(binary_str), 8))\n",
        "    except ValueError:\n",
        "        print(\"Error: Invalid binary string.\")\n",
        "        return \"\"\n",
        "\n",
        "def triangular_encrypt(bit_stream):\n",
        "    def xor_process(bits):\n",
        "        result = [bits]\n",
        "        while len(result[-1]) > 1:\n",
        "            result.append(''.join(str(int(result[-1][i]) ^ int(result[-1][i + 1])) for i in range(len(result[-1]) - 1)))\n",
        "        return ''.join(r[0] for r in result)\n",
        "\n",
        "    mid = len(bit_stream) // 2\n",
        "    part1, part2 = bit_stream[:mid], bit_stream[mid:]\n",
        "    encrypted_part1 = xor_process(part1)\n",
        "    encrypted_part2 = xor_process(part2)\n",
        "\n",
        "    # New triangular structure\n",
        "    triangle = [list(bit_stream)]\n",
        "    triangle_output = [f\"Iteration-{1} {' '.join(list(bit_stream))}\"]  # Include the source bit stream in the output\n",
        "\n",
        "    # Generate the triangle using XOR operation for each pair of consecutive bits\n",
        "    for Iteration_index in range(len(bit_stream) - 1):\n",
        "        new_Iteration = []\n",
        "        for j in range(len(triangle[Iteration_index]) - 1):\n",
        "            # XOR operation between consecutive bits\n",
        "            new_bit = str(int(triangle[Iteration_index][j]) ^ int(triangle[Iteration_index][j + 1]))\n",
        "            new_Iteration.append(new_bit)\n",
        "        triangle.append(new_Iteration)\n",
        "        triangle_output.append(f\"Iteration-{Iteration_index+2} {' '.join(new_Iteration)}\")  # Include the level name\n",
        "\n",
        "    return encrypted_part1 + encrypted_part2, triangle_output\n",
        "\n",
        "def triangular_decrypt(encrypted_stream):\n",
        "    def reverse_xor_process(bits):\n",
        "        result = [bits]\n",
        "        while len(result[-1]) < len(encrypted_stream):\n",
        "            next_level = ''\n",
        "            for i in range(len(result[-1])):\n",
        "                next_level += result[-1][i]\n",
        "                if len(next_level) < len(encrypted_stream):\n",
        "                    next_level += str(int(next_level[-1]) ^ int(encrypted_stream[len(next_level) - 1]))\n",
        "            result.append(next_level)\n",
        "        return result[-1]\n",
        "\n",
        "    mid = len(encrypted_stream) // 2\n",
        "    encrypted_part1, encrypted_part2 = encrypted_stream[:mid], encrypted_stream[mid:]\n",
        "    decrypted_part1 = reverse_xor_process(encrypted_part1)\n",
        "    decrypted_part2 = reverse_xor_process(encrypted_part2)\n",
        "\n",
        "    return decrypted_part1 + decrypted_part2\n",
        "\n",
        "def binary_to_ciphertext(binary_str):\n",
        "    # Convert binary string to bytes\n",
        "    bytes_data = int(binary_str, 2).to_bytes((len(binary_str) + 7) // 8, byteorder='big')\n",
        "    # Encode bytes using base64 (you can choose any encoding scheme you prefer)\n",
        "    return bytes_data.decode('ascii')\n",
        "\n",
        "def ciphertext_to_binary(ciphertext):\n",
        "    # Decode ciphertext from ascii encoding\n",
        "    bytes_data = ciphertext.encode('ascii')\n",
        "    # Convert bytes to binary string\n",
        "    return ''.join(format(byte, '08b') for byte in bytes_data)\n",
        "\n",
        "def reverse_triangular_encrypt(bit_stream):\n",
        "    def reverse_xor_process(bits):\n",
        "        result = [bits]\n",
        "        while len(result[-1]) < len(bit_stream):\n",
        "            next_level = ''\n",
        "            for i in range(len(result[-1])):\n",
        "                next_level += result[-1][i]\n",
        "                if len(next_level) < len(bit_stream):\n",
        "                    next_level += str(int(next_level[-1]) ^ int(bit_stream[len(next_level) - 1]))\n",
        "            result.append(next_level)\n",
        "        return result[-1]\n",
        "\n",
        "    mid = len(bit_stream) // 2\n",
        "    part1, part2 = bit_stream[:mid], bit_stream[mid:]\n",
        "    decrypted_part1 = reverse_xor_process(part1)\n",
        "    decrypted_part2 = reverse_xor_process(part2)\n",
        "\n",
        "    return decrypted_part1 + decrypted_part2\n",
        "\n",
        "def convert_decrypted_to_plain_text(decrypted_reverse_file, plain_text_file):\n",
        "    try:\n",
        "        with open(decrypted_reverse_file, 'r') as f:\n",
        "            decrypted_text = f.read().strip()\n",
        "\n",
        "        plain_text = binary_to_text(decrypted_text)\n",
        "\n",
        "        with open(plain_text_file, 'w') as f:\n",
        "            f.write(plain_text)\n",
        "\n",
        "        print(\"Decrypted output converted to plain text successfully.\")\n",
        "    except FileNotFoundError:\n",
        "        print(\"Decrypted reverse file not found.\")\n",
        "\n",
        "def encrypt_file(input_file, output_file, encrypted_file, decrypted_file, cypher_file, plain_text_file):\n",
        "    try:\n",
        "        with open(input_file, 'r') as f:\n",
        "            text = f.read().strip()\n",
        "\n",
        "        binary_text = text_to_binary(text)\n",
        "        encrypted_part, triangle_output = triangular_encrypt(binary_text)\n",
        "\n",
        "        # Write the triangle output to the output file\n",
        "        with open(output_file, 'w') as f:\n",
        "            f.write(f\"Encrypted bit stream: {encrypted_part}\\n\")\n",
        "            for line in triangle_output:\n",
        "                f.write(line + '\\n')\n",
        "\n",
        "        with open(encrypted_file, 'w') as f:\n",
        "            f.write(encrypted_part)\n",
        "\n",
        "        decrypted_binary = triangular_decrypt(encrypted_part)\n",
        "        decrypted_text = binary_to_text(decrypted_binary)\n",
        "\n",
        "        with open(decrypted_file, 'w') as f:\n",
        "            f.write(decrypted_text)\n",
        "\n",
        "        cypher_text = binary_to_ciphertext(encrypted_part)\n",
        "\n",
        "        with open(cypher_file, 'w') as f:\n",
        "            f.write(cypher_text)\n",
        "\n",
        "        # Write triangle output to a separate file\n",
        "        with open('/content/drive/MyDrive/triangle_output.txt', 'w') as f:\n",
        "            for line in triangle_output:\n",
        "                f.write(line + '\\n')\n",
        "\n",
        "        # Convert decrypted output to plain text\n",
        "        convert_decrypted_to_plain_text(decrypted_file, plain_text_file)\n",
        "\n",
        "        print(\"Encryption and decryption completed successfully.\")\n",
        "    except FileNotFoundError:\n",
        "        print(\"Input file not found.\")\n",
        "\n",
        "def decrypt_file(cypher_file, decrypted_reverse_file):\n",
        "    try:\n",
        "        with open(cypher_file, 'r') as f:\n",
        "            cypher_text = f.read().strip()\n",
        "\n",
        "        binary_cypher = ciphertext_to_binary(cypher_text)\n",
        "        decrypted_stream = reverse_triangular_encrypt(binary_cypher)\n",
        "\n",
        "        decrypted_text = binary_to_text(decrypted_stream)\n",
        "\n",
        "        with open(decrypted_reverse_file, 'w') as f:\n",
        "            f.write(decrypted_text)\n",
        "\n",
        "        print(\"Reverse decryption completed successfully.\")\n",
        "    except FileNotFoundError:\n",
        "        print(\"Cypher file not found.\")\n",
        "\n",
        "# File paths (change these paths to where you want to store your files)\n",
        "input_file = '/content/drive/MyDrive/input.txt'\n",
        "output_file = '/content/drive/MyDrive/output.txt'\n",
        "encrypted_file = '/content/drive/MyDrive/encrypted.txt'\n",
        "decrypted_file = '/content/drive/MyDrive/decrypted.txt'\n",
        "cypher_file = '/content/drive/MyDrive/cypher.txt'\n",
        "decrypted_reverse_file = '/content/drive/MyDrive/decrypted_reverse.txt'\n",
        "plain_text_file = '/content/drive/MyDrive/plain_text.txt'\n",
        "\n",
        "# Execute the encryption and decryption process\n",
        "encrypt_file(input_file, output_file, encrypted_file, decrypted_file, cypher_file, plain_text_file)\n",
        "\n",
        "# Execute the reverse decryption process\n",
        "decrypt_file(cypher_file, decrypted_reverse_file)\n"
      ],
      "metadata": {
        "id": "VN9wUN3zLBWM"
      },
      "execution_count": null,
      "outputs": []
    }
  ]
}