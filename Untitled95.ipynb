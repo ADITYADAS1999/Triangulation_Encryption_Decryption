{
  "nbformat": 4,
  "nbformat_minor": 0,
  "metadata": {
    "colab": {
      "provenance": []
    },
    "kernelspec": {
      "name": "python3",
      "display_name": "Python 3"
    },
    "language_info": {
      "name": "python"
    }
  },
  "cells": [
    {
      "cell_type": "code",
      "execution_count": null,
      "metadata": {
        "id": "1-yIk-V1sGJr"
      },
      "outputs": [],
      "source": []
    },
    {
      "cell_type": "code",
      "source": [
        "import random\n",
        "\n",
        "def binary_to_text(binary_str):\n",
        "    return ''.join(chr(int(binary_str[i:i + 8], 2)) for i in range(0, len(binary_str), 8))\n",
        "\n",
        "def triangular_encrypt_block(bit_stream, option):\n",
        "    triangle = [list(bit_stream)]\n",
        "    triangle_output = [f\"Iteration-1 {' '.join(list(bit_stream))}\"]\n",
        "\n",
        "    for iteration_index in range(len(bit_stream) - 1):\n",
        "        new_iteration = []\n",
        "        for j in range(len(triangle[iteration_index]) - 1):\n",
        "            new_bit = str(int(triangle[iteration_index][j]) ^ int(triangle[iteration_index][j + 1]))\n",
        "            new_iteration.append(new_bit)\n",
        "        triangle.append(new_iteration)\n",
        "        triangle_output.append(f\"Iteration-{iteration_index + 2} {' '.join(new_iteration)}\")\n",
        "\n",
        "    if option == '001':\n",
        "        encrypted_stream = ''.join(row[0] for row in triangle)\n",
        "    elif option == '010':\n",
        "        encrypted_stream = ''.join(row[0] for row in reversed(triangle))\n",
        "    elif option == '011':\n",
        "        encrypted_stream = ''.join(row[-1] for row in triangle)\n",
        "    else:  # '100'\n",
        "        encrypted_stream = ''.join(row[-1] for row in reversed(triangle))\n",
        "\n",
        "    return encrypted_stream, triangle_output\n",
        "\n",
        "def get_original_blocks(output_file_path):\n",
        "    original_blocks = []\n",
        "    with open(output_file_path, 'r') as f:\n",
        "        for line in f:\n",
        "            parts = line.split('|')\n",
        "            if len(parts) > 1:\n",
        "                binary_block = parts[0].strip().split(': ')[1].strip()\n",
        "                original_blocks.append(binary_block)\n",
        "    print(f\"Total Original Blocks: {len(original_blocks)}\")\n",
        "    return original_blocks\n",
        "\n",
        "def process_blocks_and_write_output(decrypt_file_path, decryption_results_path, output_file):\n",
        "    original_blocks = get_original_blocks(output_file)\n",
        "\n",
        "    with open(decrypt_file_path, 'r') as dec, open(decryption_results_path, 'w') as res:\n",
        "        dec_lines = dec.readlines()\n",
        "        print(f\"Total Decryption Lines: {len(dec_lines)}\")\n",
        "        for i, line in enumerate(dec_lines):\n",
        "            if '|' in line:\n",
        "                binary_block = line.split('|')[1].strip().split(':')[1].strip()\n",
        "                res.write(f\"Processing binary block: {binary_block}\\n\")\n",
        "                original_block = original_blocks[i] if i < len(original_blocks) else None\n",
        "                for option in ['001', '010', '011', '100']:\n",
        "                    encrypted_stream, triangle_output = triangular_encrypt_block(binary_block, option)\n",
        "                    res.write(f\"Trying option {option}:\\n\")\n",
        "                    for output_line in triangle_output:\n",
        "                        res.write(f\"{output_line}\\n\")\n",
        "                    res.write(f\"Resulting encrypted stream: {encrypted_stream}\\n\")\n",
        "                    if encrypted_stream == original_block:\n",
        "                        res.write(f\"Match found: {encrypted_stream}\\n\")\n",
        "                        res.write(f\"Block: {binary_block} | Option: {option} | Source Target Block: {encrypted_stream}\\n\\n\")\n",
        "                        break\n",
        "                res.write(\"\\n\")\n",
        "\n",
        "def extract_source_target_blocks(decryption_results_path, source_target_block_file):\n",
        "    with open(decryption_results_path, 'r') as results, open(source_target_block_file, 'w') as stb_file:\n",
        "        for line in results:\n",
        "            if \"Source Target Block:\" in line:\n",
        "                source_target_block = line.split(\"Source Target Block: \")[1].strip()\n",
        "                stb_file.write(f\"{source_target_block}\\n\")\n",
        "\n",
        "def append_text_characters_side_by_side(source_file):\n",
        "    updated_lines = []\n",
        "    with open(source_file, 'r') as file:\n",
        "        for line in file:\n",
        "            binary_block = line.strip()\n",
        "            if len(binary_block) == 8 and all(c in '01' for c in binary_block):\n",
        "                text_character = chr(int(binary_block, 2))\n",
        "                updated_line = f\"{binary_block} | Text Character : {text_character}\\n\"\n",
        "            else:\n",
        "                updated_line = f\"{binary_block} | Invalid binary block\\n\"\n",
        "            updated_lines.append(updated_line)\n",
        "    with open(source_file, 'w') as file:\n",
        "        file.writelines(updated_lines)\n",
        "\n",
        "# File paths - Update these paths to match your file locations\n",
        "output_file = '/content/drive/MyDrive/output.txt'\n",
        "decrypt_file_path = '/content/drive/MyDrive/decrypt.txt'\n",
        "decryption_results_path = '/content/drive/MyDrive/DecryptionResults.txt'\n",
        "source_target_block_file = '/content/drive/MyDrive/SourceTargetBlock.txt'\n",
        "\n",
        "try:\n",
        "    # Extract and process the encrypted data for decryption\n",
        "    process_blocks_and_write_output(decrypt_file_path, decryption_results_path, output_file)\n",
        "\n",
        "    # Extract Source Target Blocks and store them in SourceTargetBlock.txt\n",
        "    extract_source_target_blocks(decryption_results_path, source_target_block_file)\n",
        "\n",
        "    # Append text characters side by side to the binary blocks\n",
        "    append_text_characters_side_by_side(source_target_block_file)\n",
        "except Exception as e:\n",
        "    print(f\"An error occurred: {e}\")\n"
      ],
      "metadata": {
        "colab": {
          "base_uri": "https://localhost:8080/"
        },
        "id": "nc6KmhptsGkr",
        "outputId": "d20ab1a5-c707-40f8-a37b-c44a1132c2b9"
      },
      "execution_count": 2,
      "outputs": [
        {
          "output_type": "stream",
          "name": "stdout",
          "text": [
            "Total Original Blocks: 19\n",
            "Total Decryption Lines: 0\n"
          ]
        }
      ]
    },
    {
      "cell_type": "code",
      "source": [],
      "metadata": {
        "id": "hqdziKJisGm6"
      },
      "execution_count": null,
      "outputs": []
    }
  ]
}