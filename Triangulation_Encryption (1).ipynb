{
  "nbformat": 4,
  "nbformat_minor": 0,
  "metadata": {
    "colab": {
      "provenance": []
    },
    "kernelspec": {
      "name": "python3",
      "display_name": "Python 3"
    },
    "language_info": {
      "name": "python"
    }
  },
  "cells": [
    {
      "cell_type": "code",
      "source": [
        "def xnor(a, b):\n",
        "    return ~(a ^ b) & 1\n",
        "\n",
        "def triangular_encrypt(bit_stream):\n",
        "    blocks = [bit_stream]  # Adjusted to work on an 8-bit input\n",
        "    encrypted_blocks = []\n",
        "    for block in blocks:\n",
        "        triangle = [block]\n",
        "        while len(triangle[-1]) > 1:\n",
        "            new_level = ''.join(str(xnor(int(triangle[-1][i]), int(triangle[-1][i+1]))) for i in range(len(triangle[-1])-1))\n",
        "            triangle.append(new_level)\n",
        "\n",
        "        # Forming the target block from the triangle (example: using MSBs)\n",
        "        target_block = ''.join(level[0] for level in triangle)\n",
        "        encrypted_blocks.append(target_block)\n",
        "\n",
        "    # Combine all encrypted blocks\n",
        "    encrypted_bit_stream = ''.join(encrypted_blocks)\n",
        "    return encrypted_bit_stream\n",
        "\n",
        "# Adjusted for an 8-bit input example\n",
        "bit_stream = \"10010010\"  # An 8-bit example bit stream\n",
        "encrypted_stream = triangular_encrypt(bit_stream)\n",
        "print(f\"Encrypted bit stream: {encrypted_stream}\")\n"
      ],
      "metadata": {
        "colab": {
          "base_uri": "https://localhost:8080/"
        },
        "id": "ZR20Eiu1W0j2",
        "outputId": "3792ad06-3591-4066-eba3-f34a792caaf3"
      },
      "execution_count": null,
      "outputs": [
        {
          "output_type": "stream",
          "name": "stdout",
          "text": [
            "Encrypted bit stream: 10010010\n"
          ]
        }
      ]
    },
    {
      "cell_type": "code",
      "source": [],
      "metadata": {
        "id": "m2IdYXL7Xnfu"
      },
      "execution_count": null,
      "outputs": []
    },
    {
      "cell_type": "code",
      "source": [
        "def xnor(a, b):\n",
        "    return ~(a ^ b) & 1\n",
        "\n",
        "def triangular_encrypt(bit_stream):\n",
        "    blocks = [bit_stream]  # Adjusted to work on variable-length input\n",
        "    encrypted_blocks = []\n",
        "    for block in blocks:\n",
        "        triangle = [block]\n",
        "        while len(triangle[-1]) > 1:\n",
        "            new_level = ''.join(str(xnor(int(triangle[-1][i]), int(triangle[-1][i+1]))) for i in range(len(triangle[-1])-1))\n",
        "            triangle.append(new_level)\n",
        "\n",
        "        # Forming the target block from the triangle (example: using MSBs)\n",
        "        target_block = ''.join(level[0] for level in triangle)\n",
        "        encrypted_blocks.append(target_block)\n",
        "\n",
        "    # Combine all encrypted blocks\n",
        "    encrypted_bit_stream = ''.join(encrypted_blocks)\n",
        "    return encrypted_bit_stream\n",
        "\n",
        "# Accept user input for the bit stream\n",
        "bit_stream = input(\"Enter an 8-bit stream: \")  # Prompt the user to enter an 8-bit stream\n",
        "\n",
        "# Ensure the input is of correct length and format\n",
        "if len(bit_stream) == 8 and all(bit in ['0', '1'] for bit in bit_stream):\n",
        "    encrypted_stream = triangular_encrypt(bit_stream)\n",
        "    print(f\"Encrypted bit stream: {encrypted_stream}\")\n",
        "else:\n",
        "    print(\"Invalid input. Please ensure you enter an 8-bit binary number.\")\n"
      ],
      "metadata": {
        "id": "mB4LVoqbXn76"
      },
      "execution_count": null,
      "outputs": []
    },
    {
      "cell_type": "code",
      "source": [],
      "metadata": {
        "id": "Z4HprzPvinaX"
      },
      "execution_count": null,
      "outputs": []
    },
    {
      "cell_type": "code",
      "source": [],
      "metadata": {
        "id": "h-ieeJ4nj1Fj"
      },
      "execution_count": null,
      "outputs": []
    },
    {
      "cell_type": "code",
      "source": [
        "def triangular_encrypt(bit_stream):\n",
        "    # Initialize the triangular structure\n",
        "    triangle = [list(bit_stream)]\n",
        "\n",
        "    # Generate the triangle using XOR operation for each pair of consecutive bits\n",
        "    for i in range(len(bit_stream) - 1):\n",
        "        new_level = []\n",
        "        for j in range(len(triangle[i]) - 1):\n",
        "            # XOR operation between consecutive bits\n",
        "            new_level.append(str(int(triangle[i][j]) ^ int(triangle[i][j + 1])))\n",
        "        triangle.append(new_level)\n",
        "\n",
        "    # This step should be adapted based on the specific extraction logic defined in the document\n",
        "    encrypted_stream = ''.join(row[0] for row in triangle)  # Adjusted to match the example output\n",
        "\n",
        "    return encrypted_stream\n",
        "\n",
        "# Accept user input for the bit stream\n",
        "bit_stream = input(\"Enter an 8-bit stream: \")\n",
        "\n",
        "# Ensure the input is of correct length and format\n",
        "if len(bit_stream) == 8 and all(bit in ['0', '1'] for bit in bit_stream):\n",
        "    encrypted_stream = triangular_encrypt(bit_stream)\n",
        "    print(f\"Encrypted bit stream: {encrypted_stream}\")\n",
        "else:\n",
        "    print(\"Invalid input. Please ensure you enter an 8-bit binary number.\")\n"
      ],
      "metadata": {
        "id": "E2BAObu6j1IX",
        "colab": {
          "base_uri": "https://localhost:8080/"
        },
        "outputId": "fc942f97-fd6c-4089-d444-c3ec55f1faee"
      },
      "execution_count": 1,
      "outputs": [
        {
          "output_type": "stream",
          "name": "stdout",
          "text": [
            "Enter an 8-bit stream: 00101100\n",
            "Encrypted bit stream: 00111001\n"
          ]
        }
      ]
    },
    {
      "cell_type": "code",
      "source": [],
      "metadata": {
        "id": "zDLlARiay8W9"
      },
      "execution_count": null,
      "outputs": []
    },
    {
      "cell_type": "code",
      "source": [],
      "metadata": {
        "id": "gLPGQo_Dy8zA"
      },
      "execution_count": null,
      "outputs": []
    }
  ]
}