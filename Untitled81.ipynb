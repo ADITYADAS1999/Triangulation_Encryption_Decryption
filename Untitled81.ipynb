{
  "nbformat": 4,
  "nbformat_minor": 0,
  "metadata": {
    "colab": {
      "provenance": []
    },
    "kernelspec": {
      "name": "python3",
      "display_name": "Python 3"
    },
    "language_info": {
      "name": "python"
    }
  },
  "cells": [
    {
      "cell_type": "code",
      "execution_count": null,
      "metadata": {
        "id": "RdRfgN3lqYv8"
      },
      "outputs": [],
      "source": [
        "def triangular_encrypt(bit_stream):\n",
        "    # Initialize the triangular structure\n",
        "    triangle = [list(bit_stream)]\n",
        "    triangle_output = [f\"Level-{1} {' '.join(list(bit_stream))}\"]  # Include the source bit stream in the output\n",
        "\n",
        "    # Generate the triangle using XOR operation for each pair of consecutive bits\n",
        "    for level_index in range(len(bit_stream) - 1):\n",
        "        new_level = []\n",
        "        for j in range(len(triangle[level_index]) - 1):\n",
        "            # XOR operation between consecutive bits\n",
        "            new_bit = str(int(triangle[level_index][j]) ^ int(triangle[level_index][j + 1]))\n",
        "            new_level.append(new_bit)\n",
        "        triangle.append(new_level)\n",
        "        triangle_output.append(f\"Level-{level_index+2} {' '.join(new_level)}\")  # Include the level name\n",
        "\n",
        "    # This step should be adapted based on the specific extraction logic defined in the document\n",
        "    encrypted_stream = ''.join(row[0] for row in triangle)  # Adjusted to match the example output\n",
        "\n",
        "    return encrypted_stream, triangle_output\n",
        "\n",
        "# Function to read input from file, encrypt it, and write output to another file\n",
        "def encrypt_file(input_file, output_file):\n",
        "    try:\n",
        "        # Read input from the input file\n",
        "        with open(input_file, 'r') as f:\n",
        "            bit_stream = f.read().strip()\n",
        "\n",
        "        # Ensure the input is of correct length and format\n",
        "        if len(bit_stream) == 8 and all(bit in ['0', '1'] for bit in bit_stream):\n",
        "            encrypted_stream, triangle_output = triangular_encrypt(bit_stream)\n",
        "\n",
        "            # Write the encrypted output to the output file\n",
        "            with open(output_file, 'w') as f:\n",
        "                f.write(f\"Encrypted bit stream: {encrypted_stream}\\n\")\n",
        "                f.write(\"Triangle Structure:\\n\")\n",
        "                for level in triangle_output:\n",
        "                    f.write(f\"{level}\\n\")\n",
        "            print(\"Encryption completed successfully.\")\n",
        "        else:\n",
        "            print(\"Invalid input. Please ensure the input file contains an 8-bit binary number.\")\n",
        "    except FileNotFoundError:\n",
        "        print(\"Input file not found.\")\n",
        "\n",
        "# Define input and output file paths\n",
        "input_file = '/content/drive/MyDrive/input.txt'\n",
        "output_file = '/content/drive/MyDrive/output.txt'\n",
        "\n",
        "# Encrypt the input file and write the encrypted output to the output file\n",
        "encrypt_file(input_file, output_file)\n"
      ]
    },
    {
      "cell_type": "code",
      "source": [
        "def text_to_binary(text):\n",
        "    # Convert text to binary\n",
        "    binary_text = ''.join(format(ord(char), '08b') for char in text)\n",
        "    return binary_text\n",
        "\n",
        "def triangular_encrypt(bit_stream):\n",
        "    # Initialize the triangular structure\n",
        "    triangle = [list(bit_stream)]\n",
        "    triangle_output = [f\"Level-{1} {' '.join(list(bit_stream))}\"]  # Include the source bit stream in the output\n",
        "\n",
        "    # Generate the triangle using XOR operation for each pair of consecutive bits\n",
        "    for level_index in range(len(bit_stream) - 1):\n",
        "        new_level = []\n",
        "        for j in range(len(triangle[level_index]) - 1):\n",
        "            # XOR operation between consecutive bits\n",
        "            new_bit = str(int(triangle[level_index][j]) ^ int(triangle[level_index][j + 1]))\n",
        "            new_level.append(new_bit)\n",
        "        triangle.append(new_level)\n",
        "        triangle_output.append(f\"Level-{level_index+2} {' '.join(new_level)}\")  # Include the level name\n",
        "\n",
        "    # This step should be adapted based on the specific extraction logic defined in the document\n",
        "    encrypted_stream = ''.join(row[0] for row in triangle)  # Adjusted to match the example output\n",
        "\n",
        "    return encrypted_stream, triangle_output\n",
        "\n",
        "# Function to read input from file, convert to binary, encrypt it, and write output to another file\n",
        "def encrypt_file(input_file, output_file):\n",
        "    try:\n",
        "        # Read input from the input file\n",
        "        with open(input_file, 'r') as f:\n",
        "            text = f.read().strip()\n",
        "\n",
        "        # Convert text to binary\n",
        "        binary_text = text_to_binary(text)\n",
        "\n",
        "        # Ensure the input is of correct length and format\n",
        "        if len(binary_text) == 8 * len(text):\n",
        "            encrypted_stream, triangle_output = triangular_encrypt(binary_text)\n",
        "\n",
        "            # Write the encrypted output to the output file\n",
        "            with open(output_file, 'w') as f:\n",
        "                f.write(f\"Encrypted bit stream: {encrypted_stream}\\n\")\n",
        "                f.write(\"Triangle Structure:\\n\")\n",
        "                for level in triangle_output:\n",
        "                    f.write(f\"{level}\\n\")\n",
        "            print(\"Encryption completed successfully.\")\n",
        "        else:\n",
        "            print(\"Invalid input. Please ensure the input file contains a valid text sentence.\")\n",
        "    except FileNotFoundError:\n",
        "        print(\"Input file not found.\")\n",
        "\n",
        "# Define input and output file paths\n",
        "input_file = '/content/drive/MyDrive/input.txt'\n",
        "output_file = '/content/drive/MyDrive/output.txt'\n",
        "\n",
        "# Encrypt the input file and write the encrypted output to the output file\n",
        "encrypt_file(input_file, output_file)\n"
      ],
      "metadata": {
        "colab": {
          "base_uri": "https://localhost:8080/"
        },
        "id": "QlElW1fa69nX",
        "outputId": "02fb3241-ec7e-43eb-b6d8-2c760ce5dd3f"
      },
      "execution_count": 10,
      "outputs": [
        {
          "output_type": "stream",
          "name": "stdout",
          "text": [
            "Encryption completed successfully.\n"
          ]
        }
      ]
    }
  ]
}