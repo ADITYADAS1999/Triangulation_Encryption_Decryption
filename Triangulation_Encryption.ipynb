{
  "nbformat": 4,
  "nbformat_minor": 0,
  "metadata": {
    "colab": {
      "provenance": []
    },
    "kernelspec": {
      "name": "python3",
      "display_name": "Python 3"
    },
    "language_info": {
      "name": "python"
    }
  },
  "cells": [
    {
      "cell_type": "code",
      "source": [
        "def xnor(a, b):\n",
        "    return ~(a ^ b) & 1\n",
        "\n",
        "def triangular_encrypt(bit_stream):\n",
        "    blocks = [bit_stream]  # Adjusted to work on an 8-bit input\n",
        "    encrypted_blocks = []\n",
        "    for block in blocks:\n",
        "        triangle = [block]\n",
        "        while len(triangle[-1]) > 1:\n",
        "            new_level = ''.join(str(xnor(int(triangle[-1][i]), int(triangle[-1][i+1]))) for i in range(len(triangle[-1])-1))\n",
        "            triangle.append(new_level)\n",
        "\n",
        "        # Forming the target block from the triangle (example: using MSBs)\n",
        "        target_block = ''.join(level[0] for level in triangle)\n",
        "        encrypted_blocks.append(target_block)\n",
        "\n",
        "    # Combine all encrypted blocks\n",
        "    encrypted_bit_stream = ''.join(encrypted_blocks)\n",
        "    return encrypted_bit_stream\n",
        "\n",
        "# Adjusted for an 8-bit input example\n",
        "bit_stream = \"10010010\"  # An 8-bit example bit stream\n",
        "encrypted_stream = triangular_encrypt(bit_stream)\n",
        "print(f\"Encrypted bit stream: {encrypted_stream}\")\n"
      ],
      "metadata": {
        "colab": {
          "base_uri": "https://localhost:8080/"
        },
        "id": "ZR20Eiu1W0j2",
        "outputId": "3792ad06-3591-4066-eba3-f34a792caaf3"
      },
      "execution_count": 15,
      "outputs": [
        {
          "output_type": "stream",
          "name": "stdout",
          "text": [
            "Encrypted bit stream: 10010010\n"
          ]
        }
      ]
    },
    {
      "cell_type": "code",
      "source": [],
      "metadata": {
        "id": "m2IdYXL7Xnfu"
      },
      "execution_count": null,
      "outputs": []
    },
    {
      "cell_type": "code",
      "source": [
        "def xnor(a, b):\n",
        "    return ~(a ^ b) & 1\n",
        "\n",
        "def triangular_encrypt(bit_stream):\n",
        "    blocks = [bit_stream]  # Adjusted to work on variable-length input\n",
        "    encrypted_blocks = []\n",
        "    for block in blocks:\n",
        "        triangle = [block]\n",
        "        while len(triangle[-1]) > 1:\n",
        "            new_level = ''.join(str(xnor(int(triangle[-1][i]), int(triangle[-1][i+1]))) for i in range(len(triangle[-1])-1))\n",
        "            triangle.append(new_level)\n",
        "\n",
        "        # Forming the target block from the triangle (example: using MSBs)\n",
        "        target_block = ''.join(level[0] for level in triangle)\n",
        "        encrypted_blocks.append(target_block)\n",
        "\n",
        "    # Combine all encrypted blocks\n",
        "    encrypted_bit_stream = ''.join(encrypted_blocks)\n",
        "    return encrypted_bit_stream\n",
        "\n",
        "# Accept user input for the bit stream\n",
        "bit_stream = input(\"Enter an 8-bit stream: \")  # Prompt the user to enter an 8-bit stream\n",
        "\n",
        "# Ensure the input is of correct length and format\n",
        "if len(bit_stream) == 8 and all(bit in ['0', '1'] for bit in bit_stream):\n",
        "    encrypted_stream = triangular_encrypt(bit_stream)\n",
        "    print(f\"Encrypted bit stream: {encrypted_stream}\")\n",
        "else:\n",
        "    print(\"Invalid input. Please ensure you enter an 8-bit binary number.\")\n"
      ],
      "metadata": {
        "colab": {
          "base_uri": "https://localhost:8080/"
        },
        "id": "mB4LVoqbXn76",
        "outputId": "3ef800c3-43ae-4753-dd60-2a26ffc91acf"
      },
      "execution_count": 28,
      "outputs": [
        {
          "output_type": "stream",
          "name": "stdout",
          "text": [
            "Enter an 8-bit stream: 00000000\n",
            "Encrypted bit stream: 01111111\n"
          ]
        }
      ]
    },
    {
      "cell_type": "code",
      "source": [],
      "metadata": {
        "id": "Z4HprzPvinaX"
      },
      "execution_count": null,
      "outputs": []
    },
    {
      "cell_type": "code",
      "source": [],
      "metadata": {
        "id": "h-ieeJ4nj1Fj"
      },
      "execution_count": null,
      "outputs": []
    },
    {
      "cell_type": "code",
      "source": [],
      "metadata": {
        "id": "E2BAObu6j1IX"
      },
      "execution_count": null,
      "outputs": []
    }
  ]
}